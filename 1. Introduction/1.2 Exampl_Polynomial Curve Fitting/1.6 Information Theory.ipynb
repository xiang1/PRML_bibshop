{
 "cells": [
  {
   "cell_type": "markdown",
   "metadata": {},
   "source": [
    "### 1.6 Information Theory\n",
    " 定义变量信息量的时候满足以下几个条件\n",
    "\n",
    "* 大于等于0 ;\n",
    "* 确定发生的变量信息量为 $h\\left(x\\right) =0$ ;\n",
    "* 根据变量的分布函数 $p\\left(x \\right)$ 来确定 ;\n",
    "* 两个不相关随机变量的信息量为他们两个信息量的和；而两个不相关随机变量的联合分布为 $p\\left(x \\right) p\\left(y \\right)$, $h\\left(x, y\\right) = h\\left(x\\right) h\\left( y \\right) $;\n",
    "\n",
    "因此有信息量的定义： $h\\left(x\\right) = -\\log_2 p\\left(x\\right)$\n",
    "\n",
    " 熵（平均信息量）：$H [x] = -\\sum_x p\\left(x\\right)\\log_2 p\\left(x\\right) $\n",
    " \n",
    " 连续随机变量的熵： $H[x ] = -\\int{p\\left(x\\right) \\ln p\\left(x\\right) }dx$;\n",
    " \n",
    "最大熵：\n",
    "\n",
    "* 离散 M 种状态的随机变量的最大熵分布为**均匀分布**满足： $ H[x] = -\\sum_{i=1}^M p\\left(x_i\\right)\\ln p\\left(x_i\\right) \\leq \\ln M  $， 当且仅当 $p\\left(x_i\\right) = \\frac{1}{M}$ 时取最大值； \n",
    "\n",
    " **证明**： [从拉格朗日方法也可以证明]\n",
    " $$\n",
    " \\begin{split}\n",
    " H[x] &= -\\sum_{i=1}^M p\\left(x_i\\right)\\ln p\\left(x_i\\right) = \\sum_{i=1}^M p\\left(x_i\\right)\\ln \\frac{1}{p\\left(x_i\\right)}\\\\\n",
    " &\\leq \\sum_{i=1}^M \\ln \\frac{p\\left(x_i\\right)}{p\\left(x_i\\right)} = \\ln M\\\\\n",
    " \\end{split}\n",
    " $$\n",
    " \n",
    "* 已知分布的均值，那么**负指数分布**是熵最大的分布： **证明？**\n",
    " \n",
    "* 已知分布的均值和方差， **高斯分布**是熵最大的分布: \n",
    "     $$\n",
    "     \\begin{split}\n",
    "         \\underset{p\\left(x\\right)}{\\max}: &-\\int{p\\left(x\\right) \\ln p\\left(x\\right) }dx \\\\\n",
    "                           s.t.: & \\int_{-\\infty}^{+\\infty}p\\left(x\\right) dx = 1\\\\\n",
    "                               & \\int_{-\\infty}^{+\\infty}xp\\left(x\\right) dx = \\mu\\\\\n",
    "                               &\\int_{-\\infty}^{+\\infty}\\left(x-\\mu\\right)^2p\\left(x\\right) dx =\\sigma^2\n",
    "     \\end{split}\n",
    "     $$\n",
    "     ** 证明 ** ： [根据拉格朗日，变分法]\n",
    "     \n",
    "     $$\n",
    "     \\begin{split}\n",
    "         L\\left(p\\left(x\\right) ; \\lambda_0, \\lambda_1, \\lambda_2 \\right)& =-\\int{p\\left(x\\right) \\ln p\\left(x\\right) }dx +                                                      \\lambda_0\\left(\\int_{-\\infty}^{+\\infty}p\\left(x\\right) dx - 1\\right)\\\\\n",
    "                                          &+ \\lambda_1 \\left(\\int_{-\\infty}^{+\\infty}xp\\left(x\\right) dx - \\mu \\right)\n",
    "                             + \\lambda_2\\left(\\int_{-\\infty}^{+\\infty}\\left(x-\\mu\\right)^2p\\left(x\\right) dx -\\sigma^2\\right) \\\\\n",
    "         \\delta  L\\left(p\\left(x\\right) ; \\lambda_0, \\lambda_1, \\lambda_2 \\right) & = \\int\\left( -\\ln p\\left(x\\right) - 1 +\\lambda_0 +\\lambda_1 x + \\lambda_2\\left(x- \\mu\\right)^2  \\right)\\delta p\\left(x\\right)  dx =0 \\\\\n",
    "         p\\left(x\\right) & = \\exp\\left(-1 + \\lambda_0+ \\lambda_1 x + \\lambda_2 \\left( x- \\mu \\right)^2\\right) \\\\\n",
    "         \\Rightarrow & p\\left( x \\right) = \\frac{1}{\\left(2\\pi\\sigma^2 \\right)^{1/2}}\\exp\\left\\{ -\\frac{\\left(x-\\mu\\right)^2}{2\\sigma^2} \\right\\}\n",
    "     \\end{split}\n",
    "     $$\n",
    "     \n",
    "* 条件熵： $H[y| x] = -\\int\\int p\\left(y,x\\right) \\ln p\\left(y|x\\right)dydx$\n",
    "    "
   ]
  },
  {
   "cell_type": "markdown",
   "metadata": {
    "collapsed": true
   },
   "source": [
    "#### 1.6.1 Relative entropy and mutual information\n",
    "\n",
    "* K-L Divergence: $ KL\\left(p || q \\right)  = -\\int{p\\left(x\\right) \\ln \\left\\{ \\frac{q\\left(x\\right)}{p\\left(x\\right)} \\right\\}}dx$\n",
    "    假设原始的未知分布 $p\\left(x\\right)$, 他的近似分布为 $p\\left(x\\right)$ , 那么 $ KL\\left(p || q \\right)$  表示的是我们用服从 $p\\left(x\\right)$分布的方式来编码会比用服从 $p\\left(x\\right)$ 方式编码带来的多余信息量 。\n",
    "    \n",
    "* 凸函数： 函数上任意两点的连线（chrod）在函数之上； 也就是说对于任意的 $x-1, x_2 \\in [a,b], 0 \\leq \\lambda \\leq 1 $ , 满足 $f\\left(\\lambda x_1 +\\left( 1-\\lambda \\right) x_2  \\right) \\leq \\lambda f\\left(x_1\\right) +\\left(1-\\lambda\\right)f\\left( x_2 \\right)$; \n"
   ]
  },
  {
   "cell_type": "code",
   "execution_count": 1,
   "metadata": {},
   "outputs": [
    {
     "data": {
      "image/png": "[encoded data removed]",
      "text/plain": [
       "<matplotlib.figure.Figure at 0x20777f59518>"
      ]
     },
     "metadata": {},
     "output_type": "display_data"
    }
   ],
   "source": [
    "import numpy as np;\n",
    "import matplotlib.pyplot as plt\n",
    "%matplotlib inline\n",
    "x_data = np.linspace(-2, 4, 50);\n",
    "y_data = x_data**2;\n",
    "fig,ax = plt.subplots();\n",
    "plt.plot(x_data, y_data, 'r');\n",
    "plt.plot([-1, 3], [1, 9],'b');\n",
    "plt.plot([-1,-1],[-2,1],'g--'); plt.plot([3,3],[-2,9],'g--');\n",
    "plt.plot([1,1],[-2,5],'g');\n",
    "ax.text(2.5,12,'$f(x)$',fontsize = 'xx-large');\n",
    "ax.set_xticks([-1,1,3]);\n",
    "ax.set_xticklabels(['$x_1$','$x_\\lambda$','$x_2$'],fontsize = 'xx-large');\n",
    "ax.set_ylim(-2, 20);"
   ]
  },
  {
   "cell_type": "markdown",
   "metadata": {},
   "source": [
    "* Jensen 不等式 ： $f\\left( \\mathbb{E}[x]\\right)$ \\leq  \\mathbb{E}[f\\left(x\\right)]\n",
    "* 最小化相对熵的结果与最大似然估计相同： 假设数据来源与模型 $p\\left(x\\right)$ , 现在我们用已知的，带有参数的分布 $q\\left(x| \\theta \\right)$ 去近似原始分布，那么有 $ KL\\left(p|| q\\right) = -\\int p\\left(x\\right)\\ln q\\left(x| \\theta \\right)dx +\\int p\\left(x\\right)\\ln p\\left(x \\right)dx  $, 后半部分与 $\\theta$ 无关，因此，最小熵的结果和最大似然估计相同。"
   ]
  }
 ],
 "metadata": {
  "kernelspec": {
   "display_name": "Python 3",
   "language": "python",
   "name": "python3"
  },
  "language_info": {
   "codemirror_mode": {
    "name": "ipython",
    "version": 3
   },
   "file_extension": ".py",
   "mimetype": "text/x-python",
   "name": "python",
   "nbconvert_exporter": "python",
   "pygments_lexer": "ipython3",
   "version": "3.6.1"
  }
 },
 "nbformat": 4,
 "nbformat_minor": 2
}
