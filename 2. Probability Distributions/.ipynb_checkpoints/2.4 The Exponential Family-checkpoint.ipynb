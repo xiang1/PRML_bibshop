{
 "cells": [
  {
   "cell_type": "markdown",
   "metadata": {},
   "source": [
    "##  2.4 The Exponential Family\n",
    "\n",
    "* 指数族函数： 形如:\n",
    "$$\n",
    "p\\left(\\mathbf{x} | \\mathbf{\\eta}\\right) = h\\left(\\mathbf{x}\\right)g \\left(\\mathbf{\\mathbf{\\eta}}\\right) \\exp\\{ \\mathbf{\\eta}^T\\mathbf{u}\\left(\\mathbf{x}\\right) \\} \n",
    "$$\n",
    "\n",
    "其中 $\\mathbf{\\eta}$ 是分布中的参数，$\\mathbf{u}\\left(\\mathbf{x}\\right)$ 表示任一$\\left(\\mathbf{x}\\right)$的函数，$g \\left(\\mathbf{\\mathbf{\\eta}}\\right)$是归一化项。\n",
    "\n",
    "* 贝努力分布（包括多维的贝努力分布）， 高斯函数 都可以通过转换变为指数族函数的形式。\n",
    "\n",
    "$$\n",
    "\\begin{split}\n",
    "    p\\left(x| \\mu\\right) &= Bern\\left(x|\\mu\\right) = \\mu^x\\left(1-\\mu\\right)^{1-x}\\\\\n",
    "                 &=\\exp\\{x\\ln \\mu + \\left(1-x\\right) \\ln \\left(1-\\mu\\right) \\}\\\\\n",
    "                 &= \\left(1-\\mu\\right)\\exp\\{ \\ln\\left(\\frac{\\mu}{1-\\mu}\\right) \\}\n",
    "\\end{split}\n",
    "$$\n",
    "同理，高斯分布也可以转换为指数族函数。\n",
    "\n",
    "### 2.4.1 Maximum likelihood and sufficient statistics\n",
    "\n",
    "* 指数族函数参数的最大似然估计：(令最大似然函数对参数的导为0)\n",
    "$$\n",
    "\\triangledown g\\left(\\mathbf{\\mathbf{\\eta}}\\right) \\int h\\left(\\mathbf{x}\\right)g \\left(\\mathbf{\\mathbf{\\eta}}\\right) \\exp\\{ \\mathbf{\\eta}^T\\mathbf{u}\\left(\\mathbf{x}\\right) \\} dx + g\\left(\\mathbf{\\mathbf{\\eta}}\\right) \\int h\\left(\\mathbf{x}\\right)g \\left(\\mathbf{\\mathbf{\\eta}}\\right) \\exp\\{ \\mathbf{\\eta}^T\\mathbf{u}\\left(\\mathbf{x}\\right) \\} \\mathbf{\\mu}\\left(\\mathbf{x}\\right)dx =0\n",
    "$$\n",
    "因此得到：\n",
    "$$\n",
    "-\\triangledown\\ln g\\left(\\mathbf{\\mathbf{\\eta}}\\right) = \\mathbb{E}\\left[\\mathbf{\\mu}\\left(\\mathbf{x}\\right)\\right]\n",
    "$$\n",
    "同样的，$\\mathbb{E}\\left[\\mathbf{\\mu}\\left(\\mathbf{x}\\right)^2\\right]$可以通过二次求导计算得到。（依次有三次，高次导数）。\n",
    "\n",
    "* 考虑独立同分布的样本数据 $\\mathbf{X}= \\{\\mathbf{x}_1,\\mathbf{x}_2,..., \\mathbf{x}_n \\}$, 得到似然函数：\n",
    "$$\n",
    "p\\left(\\mathbf{X} | \\mathbf{\\eta}\\right) = \\left(\\prod_{n=1}^N h\\left(\\mathbf{x}\\right)\\right)g \\left(\\mathbf{\\mathbf{\\eta}}\\right)^N \\exp\\{ \\mathbf{\\eta}^T \\sum_{n=1}^N\\mathbf{u}\\left(\\mathbf{x}_n\\right) \\} \n",
    "$$\n",
    "最大似然近似得到： $-\\triangledown \\ln g\\left(\\eta_{ML}\\right) = \\frac{1}{N} \\sum_{n=1}^N \\mathbf{\\mu}\\left(\\mathbf{x}_n\\right) $\n",
    "\n",
    "对于参数的最大似然估计，我们可以保存$\\sum_{n=1}^N \\mathbf{\\mu}\\left(\\mathbf{x}_n\\right) $, 甚至不用计算其他结果。"
   ]
  },
  {
   "cell_type": "markdown",
   "metadata": {},
   "source": [
    "### 2.4.2 Conjugate priors\n",
    "\n",
    "* 共轭先验： \n",
    "$$\n",
    "p\\left(\\mathbf{\\eta} | \\mathbf{\\chi}, \\nu \\right) = f\\left(\\mathbf{\\chi}, \\nu\\right)g\\left(\\mathbf{\\mathbf{\\eta}}\\right)^\\nu \\exp\\{\\nu \\mathbf{\\eta}^T \\mathbf{\\chi}\\}\n",
    "$$\n",
    "\n",
    "* 先验乘以似然得到：\n",
    "$$\n",
    "p\\left(\\mathbf{\\eta} | \\mathbf{X}, \\mathbf{\\chi}, \\nu \\right) \\propto g\\left(\\mathbf{\\mathbf{\\eta}}\\right)^{\\nu+ N} \\exp\\left[ \\mathbf{\\eta}^T \\left(\\sum_{n=1}^N\\mathbf{u}\\left(\\mathbf{x}_n\\right)  \\nu \\mathbf{\\eta}^T \\mathbf{\\chi}\\right)\\right]\n",
    "$$\n"
   ]
  },
  {
   "cell_type": "markdown",
   "metadata": {},
   "source": [
    "### 2.4.3 Noinformative priors\n",
    "\n",
    "当分布函数未知的时候，我们所选择的先验分布应该尽量不影响似然函数的表达结果，尽量让数据自己去表达自己的信息，这时候我们一般选择参数服从均匀分布，但是一旦参数的范围为无穷，这时候就没有办法选择合适的先验概率分布。。\n",
    "\n",
    "\n",
    "有两种情况下可以比较好的选择先验分布；\n",
    "* 1) $p\\left(x| \\mu \\right) = f\\left(x-\\mu\\right)$: 我们可以选择的先验分布应该满足$p\\left(\\mu-c\\right) = p\\left(\\mu\\right)$ , $ p\\left(\\mu\\right)$为常数\n",
    "\n",
    "* 2) $p\\left(x| \\sigma \\right) =\\frac{1}{\\sigma} f\\left(\\frac{1}{\\sigma}\\right)$:选择先验满足$p\\left(\\sigma\\right) = p\\left(\\frac{\\sigma}{c}\\right) \\frac{1}{c} $， $p\\left(\\sigma\\right)\\propto \\frac{1}{\\sigma}$"
   ]
  }
 ],
 "metadata": {
  "kernelspec": {
   "display_name": "Python 3",
   "language": "python",
   "name": "python3"
  },
  "language_info": {
   "codemirror_mode": {
    "name": "ipython",
    "version": 3
   },
   "file_extension": ".py",
   "mimetype": "text/x-python",
   "name": "python",
   "nbconvert_exporter": "python",
   "pygments_lexer": "ipython3",
   "version": "3.6.1"
  },
  "toc": {
   "nav_menu": {
    "height": "128px",
    "width": "329px"
   },
   "number_sections": false,
   "sideBar": true,
   "skip_h1_title": false,
   "toc_cell": false,
   "toc_position": {},
   "toc_section_display": "block",
   "toc_window_display": false
  }
 },
 "nbformat": 4,
 "nbformat_minor": 2
}
