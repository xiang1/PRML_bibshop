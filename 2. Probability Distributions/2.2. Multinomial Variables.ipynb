{
 "cells": [
  {
   "cell_type": "markdown",
   "metadata": {},
   "source": [
    "## 2.2. Multinomial Variables\n",
    "\n",
    "相对于前面的分析，我们来介绍多维的变量，用向量 $ \\mathbf{x}=\\left\\{x_1, x_2, \\ldots, x_n\\right\\}$ 来表示一个多维的向量，表示一个有多个结果的离散随机变量，其中  $x_k =1$ 表示当前随机变量的取值为第 $k$ 个值，比如一个骰子有6个结果，而恰好有一次我们掷除了3 这个结果，我们就可以用 下面的向量来表示这一事件：\n",
    "$$\n",
    "\\mathbf{x} = \\left\\{0,0,1, 0,0,0\\right\\}\n",
    "$$\n",
    "当然，每一次取值只能出现一个结果，因此，上述随机变量 $\\mathbf{x}$ 需要满足一个条件，那就是 $\\sum_{k=1}^{K}x_k =1$.\n",
    "\n",
    "若 ： $p \\left(x_k\\right) = \\mu_k$, 且 $\\mathbf{\\mu} = \\left(\\mu_1, \\ldots, \\mu_k \\right)^{T}, \\mu_k \\geqslant 0$\n",
    "\n",
    "那么： $p\\left(\\mathbf{x} | \\mathbf{\\mu}\\right) = \\prod_{k=1}^K \\mu_k^{x_k} $ 被称为一般化的** Bernoulli 分布**\n",
    "\n",
    "显然，上述分布是normalized的，即  $\\sum_{\\mathbf{x}} p\\left(\\mathbf{x}|\\mathbf{\\mu}\\right) = \\sum_{k=1}^{K}\\mu_k =1$\n",
    "\n",
    "对于该多维随机变量的一组观测数据集合 $\\mathcal{D}$, 其中有 $N$ 个数据 $\\mathbf{x}_1, \\ldots, \\mathbf{x}_N $, 那么对应的该数据集合(概率函数)的似然函数可以表述为：\n",
    "$$\n",
    "p\\left(\\mathcal{D}|\\mathbf{\\mu}\\right) = \\prod_{n=1}^N \\prod_{k=1}^K \\mu_k^{x_{nk}}= \\prod_{k=1}^K \\mu_k^{\\sum_{n=1}^k x_{nk}} = \\prod_{k=1}^K \\mu_k^{m_k}\n",
    "$$\n",
    "\n",
    "显然上述似然函数仅取决于: $ m_k = \\sum_{n=1}^N x_{nk}$ 表示在 $N$ 个随机变量中取值为第 $k$ 个值的数目。\n",
    "\n",
    "最大化似然函数求参数 $\\mathbf{\\mu}$  : $ \\max: \\ln p\\left(\\mathcal{D}| \\mathbf{\\mu} \\right) $\n",
    "\n",
    "转化为带有等式约束的最大化问题：\n",
    "$$\n",
    "\\sum_{k=1}^K m_k \\ln \\mu_k +\\lambda\\left(\\sum_{k=1}^K -1 \\right)\n",
    "$$\n",
    "\n",
    "通过求导令其为0，得到： $\\mu_k^{ML} = \\frac{m_k}{N} $\n"
   ]
  },
  {
   "cell_type": "markdown",
   "metadata": {},
   "source": [
    "视 $m_1, \\ldots, m_K $为随机变量，那么在给定数据规模 $N$ 和参数 $\\mathbf{\\mu}$ 的情况下，他们的分布为：\n",
    "$$\n",
    "Mult\\left(m_1, m_2,\\dots, m_K | \\mathbf{\\mu}, K \\right) = \\binom {N}{m_1 m_2\\ldots m_K}\\prod_{k=1}^K \\mu_k^{m_k}\n",
    "$$\n",
    "其中： $\\binom {N}{m_1 m_2\\ldots m_K} = \\frac{N!}{m_1! m_2!\\ldots m_K!}$\n"
   ]
  },
  {
   "cell_type": "markdown",
   "metadata": {},
   "source": [
    "### 2.2.1 The Dirichlet distribution\n",
    "\n",
    "Dirichlet 分布： $Dir \\left( \\mathbf{\\mu} | \\mathbf{\\alpha} \\right) = \\frac{\\Gamma{\\alpha_0}}{\\Gamma{\\alpha_1}\\ldots \\Gamma{\\alpha_N}} \\prod_{k=1}^K \\mu_k^{\\alpha_k-1}$， 且有 $\\sum_k \\mu_k = 1, 0\\leqslant \\mu_k \\leqslant 1$ \n",
    "\n",
    "\n",
    "$\\mathbf{\\mu}$的后验分布为： $  p\\left(\\mathbf{\\mu| \\mathcal{D}, \\mathbf{\\alpha}}\\right) \\propto   p\\left(\\mathcal{D} | \\mathbf{\\mu}\\right) p \\left( \\mathbf{\\mu} | \\mathbf{\\alpha} \\right) \\propto \\prod_{k=1}^K \\mu_k^{\\alpha_k+m_k-1}$\n",
    "\n",
    "后验分布也可以视为Dirichlet 分布： $  p\\left(\\mathbf{\\mu| \\mathcal{D}, \\mathbf{\\alpha}}\\right) = Dir\\left( \\mathbf{\\mu} | \\mathbf{\\alpha+ m} \\right) $"
   ]
  }
 ],
 "metadata": {
  "kernelspec": {
   "display_name": "Python 3",
   "language": "python",
   "name": "python3"
  },
  "language_info": {
   "codemirror_mode": {
    "name": "ipython",
    "version": 3
   },
   "file_extension": ".py",
   "mimetype": "text/x-python",
   "name": "python",
   "nbconvert_exporter": "python",
   "pygments_lexer": "ipython3",
   "version": "3.6.1"
  }
 },
 "nbformat": 4,
 "nbformat_minor": 2
}
